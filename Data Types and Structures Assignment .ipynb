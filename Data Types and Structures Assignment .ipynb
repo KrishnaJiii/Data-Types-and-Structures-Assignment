{
 "cells": [
  {
   "cell_type": "markdown",
   "id": "ba2b8291-d794-4996-a502-d8b2ba5a9f5e",
   "metadata": {},
   "source": [
    "## Data Types and Structures Questions"
   ]
  },
  {
   "cell_type": "markdown",
   "id": "0029fa1c-0317-4218-ba97-d2d079a55c11",
   "metadata": {},
   "source": [
    "Q1. What are data structures, and why are they important?"
   ]
  },
  {
   "cell_type": "markdown",
   "id": "ddb38b48-1d06-492b-8371-2d228c0067c6",
   "metadata": {},
   "source": [
    "A1. Data structures are used to store and organize data in Python. They help in efficient data access and management.\n",
    "Ex: lists, tuples, sets, and dictionaries."
   ]
  },
  {
   "cell_type": "markdown",
   "id": "89dabfc0-8935-477a-b233-8409a8c7759b",
   "metadata": {},
   "source": [
    "Q2.  Explain the difference between mutable and immutable data types with examples."
   ]
  },
  {
   "cell_type": "markdown",
   "id": "5ac3d34f-74ab-4705-b0e0-4bff244bf154",
   "metadata": {},
   "source": [
    "A2. Mutable data types are those data types which can be changed after creation, while immutable data types are those data types which cannot be changed after creation.\n",
    "Ex: Mutable: list, dict, set\n",
    "Immutable:| str, tuple"
   ]
  },
  {
   "cell_type": "markdown",
   "id": "8746ff46-f698-4e12-b3df-f4b8353be798",
   "metadata": {},
   "source": [
    "Q3. What are the main differences between lists and tuples in Python?"
   ]
  },
  {
   "cell_type": "markdown",
   "id": "ebc0c399-b387-427f-8123-c37193dffbcd",
   "metadata": {},
   "source": [
    "A3. In Python, the main difference between lists and tuples is that lists are mutable, meaning their elements can be changed after creation, while tuples are immutable and cannot be modified. Lists are created using square brackets [], whereas tuples use parentheses ()."
   ]
  },
  {
   "cell_type": "markdown",
   "id": "b3ede765-ecf8-45fe-8656-d655b896bd74",
   "metadata": {},
   "source": [
    "Q4. Describe how dictionaries store data?"
   ]
  },
  {
   "cell_type": "markdown",
   "id": "1f031f5e-28f0-4f96-bc3a-e4d96490dae9",
   "metadata": {},
   "source": [
    "A4. In Python Dictionaries store data as key-value pairs. Each key is unique, and it is associated with a value. You can access values by referencing their corresponding keys. "
   ]
  },
  {
   "cell_type": "markdown",
   "id": "19faea59-c671-4aa5-9ebb-b5535a35d783",
   "metadata": {},
   "source": [
    "Q5. Why might you use a set instead of a list in Python?"
   ]
  },
  {
   "cell_type": "markdown",
   "id": "7d444529-17df-434f-a077-8bb5e6f5b478",
   "metadata": {},
   "source": [
    "A5. Following are some that shows that why we use a set instead of a list in Python\n",
    "a. Uniqueness: Sets automatically remove duplicates, ensuring that all elements are unique.\n",
    "b. Set operations: Sets support mathematical set operations like union, intersection, and difference directly, which can be                    useful for certain problems."
   ]
  },
  {
   "cell_type": "markdown",
   "id": "2443fe5d-5a22-40fb-a63d-0d234dbc0ed4",
   "metadata": {},
   "source": [
    "Q6. What is a string in Python, and how is it different from a list?"
   ]
  },
  {
   "cell_type": "markdown",
   "id": "6174b380-3bc8-470a-a554-409cb8e0058c",
   "metadata": {},
   "source": [
    "A6. A string in Python is a sequence of characters enclosed in quotes like: 'hello' or \"hello\". It is immutable, meaning it cannot be changed after creation.\n",
    "A list is a sequence of elements which can be of any data type and is mutable, so its elements can be modified."
   ]
  },
  {
   "cell_type": "markdown",
   "id": "18b7fe17-7855-4da1-b15b-c4778acb52d5",
   "metadata": {},
   "source": [
    "Q7. How do tuples ensure data integrity in Python?"
   ]
  },
  {
   "cell_type": "markdown",
   "id": "8b4b0b97-1221-4449-892a-f86c397b2f85",
   "metadata": {},
   "source": [
    "A7. Tuples ensure data integrity in Python by being immutable, meaning their values cannot be changed after creation. This protects the data from accidental modification, making tuples ideal for storing constant or fixed data. "
   ]
  },
  {
   "cell_type": "markdown",
   "id": "9012b865-2ddb-4e5d-ad59-91b14c33f0cb",
   "metadata": {},
   "source": [
    "Q8. What is a hash table, and how does it relate to dictionaries in Python?"
   ]
  },
  {
   "cell_type": "markdown",
   "id": "8eef94eb-8c30-4446-b246-f2f2ed904201",
   "metadata": {},
   "source": [
    "A8. A hash table is a data structure that stores data using key-value pairs, where a hash function converts keys into unique indexes to quickly access values.\n",
    "In Python, the dictionary is implemented using a hash table. When you use a key to access or store a value in a dictionary, Python uses hashing to find the correct location in memory, making operations like lookup, insert, and delete very fast."
   ]
  },
  {
   "cell_type": "markdown",
   "id": "43e36820-8ac7-4f56-a894-a71090687231",
   "metadata": {},
   "source": [
    "Q9. Can lists contain different data types in Python?"
   ]
  },
  {
   "cell_type": "markdown",
   "id": "e70e5b00-ef10-4b66-9458-30b67feb1fff",
   "metadata": {},
   "source": [
    "A9. Yes, lists in Python can contain different data types."
   ]
  },
  {
   "cell_type": "markdown",
   "id": "80043f39-09e9-4dba-89eb-1801e61a22e5",
   "metadata": {},
   "source": [
    "Q10. Explain why strings are immutable in Python?"
   ]
  },
  {
   "cell_type": "markdown",
   "id": "8460be6f-fb4f-42f6-8d19-1f6656c3ecb0",
   "metadata": {},
   "source": [
    "A10. Strings are immutable in Python to ensure data integrity and security. When a string is created, it cannot be changed any operation that seems to modify a string actually creates a new string."
   ]
  },
  {
   "cell_type": "markdown",
   "id": "3ffdebd1-fe3c-40b1-ad4e-d96461496fad",
   "metadata": {},
   "source": [
    "Q11. What advantages do dictionaries offer over lists for certain tasks?"
   ]
  },
  {
   "cell_type": "markdown",
   "id": "c036f1d8-c3eb-46a7-abe4-c3205a1cda94",
   "metadata": {},
   "source": [
    "A11. Dictionaries offer several advantages over lists for certain tasks:\n",
    "a. Fast lookup: Accessing values by key in a dictionary is much faster.\n",
    "b. Key-value structure: Dictionaries store data in a more meaningful way, using keys, which makes code more readable and                            organized.\n",
    "c. No need to remember index: With dictionaries, you don’t need to remember positions, you just use keys to access data."
   ]
  },
  {
   "cell_type": "markdown",
   "id": "60b11dfa-326d-42a4-abd3-db22d412af54",
   "metadata": {},
   "source": [
    "Q12. Describe a scenario where using a tuple would be preferable over a list."
   ]
  },
  {
   "cell_type": "markdown",
   "id": "f5aebb0d-7919-493c-ab99-c0e444bfeefc",
   "metadata": {},
   "source": [
    "A12.  tuple is preferable over a list when you want to store data that should not change.\n",
    "Ex: if you're storing the coordinates of a location like (latitude, longitude), a tuple is better because it protects the data from being modified accidentally."
   ]
  },
  {
   "cell_type": "markdown",
   "id": "3f496784-2445-4d1b-9847-6986ac8634df",
   "metadata": {},
   "source": [
    "Q13. How do sets handle duplicate values in Python?"
   ]
  },
  {
   "cell_type": "markdown",
   "id": "aee3d1de-9cab-4875-8a76-6290c8b2e89a",
   "metadata": {},
   "source": [
    "A13. In Python, sets automatically remove duplicate values. When you create a set, any repeated elements are stored only once."
   ]
  },
  {
   "cell_type": "markdown",
   "id": "4a9058db-a61b-49fb-9e8d-3e754e0a7bf2",
   "metadata": {},
   "source": [
    "Q14. How does the “in” keyword work differently for lists and dictionaries?"
   ]
  },
  {
   "cell_type": "markdown",
   "id": "7462b689-6f96-4aba-854d-5b2515b6e107",
   "metadata": {},
   "source": [
    "A14. The in keyword is used to check for membership, but it behaves differently for lists and dictionaries in Python. In a list, in checks if a specific value exists within the list elements. However, in a dictionary, in checks only for the presence of a key, not the value."
   ]
  },
  {
   "cell_type": "markdown",
   "id": "1b123d09-cdd5-4f2b-aaf6-376ffd671256",
   "metadata": {},
   "source": [
    "Q15. Can you modify the elements of a tuple? Explain why or why not?"
   ]
  },
  {
   "cell_type": "markdown",
   "id": "ceb3628f-b0cd-4915-821c-18e42860f089",
   "metadata": {},
   "source": [
    "A15. No, we cannot modify the elements of a tuple in Python. This is because tuples are immutable, meaning once they are created, their content cannot be changed. "
   ]
  },
  {
   "cell_type": "markdown",
   "id": "57b904c2-9db2-4ec6-b90a-0b2a6be3ceb0",
   "metadata": {},
   "source": [
    "Q16. What is a nested dictionary, and give an example of its use case?"
   ]
  },
  {
   "cell_type": "markdown",
   "id": "6240a3fe-e5f8-465c-887b-b954c911a42f",
   "metadata": {},
   "source": [
    "A16. A nested dictionary is a dictionary where the value associated with a key is another dictionary. This allows you to store hierarchical or complex data structures within a dictionary.\n",
    "\n",
    "Use Case: A nested dictionary is useful when you need to represent complex data like a student record where each student has multiple attributes age, class, etc."
   ]
  },
  {
   "cell_type": "markdown",
   "id": "e6f929d3-749e-4dc1-afcd-f77e3f9124db",
   "metadata": {},
   "source": [
    "Q17. Describe the time complexity of accessing elements in a dictionary."
   ]
  },
  {
   "cell_type": "markdown",
   "id": "58631897-94d1-4058-9264-09e399a8d508",
   "metadata": {},
   "source": [
    "A17. In Python, accessing an element in a dictionary is very fast. it takes the same amount of time regardless of the size of the dictionary. This is because dictionaries use hashing to quickly find values based on their keys."
   ]
  },
  {
   "cell_type": "markdown",
   "id": "37ed60e0-7571-4537-ae47-7c2643eca91c",
   "metadata": {},
   "source": [
    "Q18. In what situations are lists preferred over dictionaries?"
   ]
  },
  {
   "cell_type": "markdown",
   "id": "ba850eb1-0e76-4514-80d6-3384294cf3a4",
   "metadata": {},
   "source": [
    "A18. Lists are preferred over dictionaries when the order of elements matters or when you need to access items by their position (index)."
   ]
  },
  {
   "cell_type": "markdown",
   "id": "874e5424-75d6-4b1c-be52-34bab047f5ae",
   "metadata": {},
   "source": [
    "Q19. Why are dictionaries considered unordered, and how does that affect data retrieval?"
   ]
  },
  {
   "cell_type": "markdown",
   "id": "750b9876-a9a5-470e-9b65-03f8e7c7a4f1",
   "metadata": {},
   "source": [
    "A19. Dictionaries are considered unordered because the items are stored based on their hash values, not in the order they were added. However, this does not affect data retrieval. You can still quickly access values using their keys."
   ]
  },
  {
   "cell_type": "markdown",
   "id": "1865cf1a-b835-44f9-9797-b0f861f3b2d8",
   "metadata": {},
   "source": [
    "Q20. Explain the difference between a list and a dictionary in terms of data retrieval."
   ]
  },
  {
   "cell_type": "markdown",
   "id": "e471c71b-6363-4113-ba8c-dc8b480b0ac5",
   "metadata": {},
   "source": [
    "A20.The main difference between a list and a dictionary in terms of data retrieval lies in how data is accessed:\n",
    "a. List: Data is accessed using index positions (integers), so you retrieve an item by its index. The index defines the              position of an element in the list.\n",
    "b. Dictionary: Data is accessed using keys, which can be any immutable type like strings or numbers. You retrieve values by                referring to their associated key. "
   ]
  },
  {
   "cell_type": "markdown",
   "id": "69d4ece7-88c3-4406-a3b4-2876c45e58bd",
   "metadata": {},
   "source": [
    "## Practical Questions"
   ]
  },
  {
   "cell_type": "code",
   "execution_count": 1,
   "id": "459f291b-166a-47e1-825d-1b15d1e18754",
   "metadata": {},
   "outputs": [
    {
     "name": "stdout",
     "output_type": "stream",
     "text": [
      "Krishna\n"
     ]
    }
   ],
   "source": [
    "## Q1. Write a code to create a string with your name and print it.\n",
    "\n",
    "str1 = \"Krishna\"\n",
    "print(str1)"
   ]
  },
  {
   "cell_type": "code",
   "execution_count": 2,
   "id": "3403b194-c853-44e5-b900-976e2fbb54fe",
   "metadata": {},
   "outputs": [
    {
     "data": {
      "text/plain": [
       "11"
      ]
     },
     "execution_count": 2,
     "metadata": {},
     "output_type": "execute_result"
    }
   ],
   "source": [
    "## Q2.  Write a code to find the length of the string \"Hello World\".\n",
    "\n",
    "str2 = \"Hello World\"\n",
    "len(str2)"
   ]
  },
  {
   "cell_type": "code",
   "execution_count": 3,
   "id": "c877587f-4ccd-4de4-94a9-32bc23bc281a",
   "metadata": {},
   "outputs": [
    {
     "data": {
      "text/plain": [
       "'Pyth'"
      ]
     },
     "execution_count": 3,
     "metadata": {},
     "output_type": "execute_result"
    }
   ],
   "source": [
    "## Q3. Write a code to slice the first 3 characters from the string \"Python Programming\".\n",
    "\n",
    "str3 = \"Python Programming\"\n",
    "str3[0:4]"
   ]
  },
  {
   "cell_type": "code",
   "execution_count": 4,
   "id": "56993c79-67b7-433b-893e-37712b157ab4",
   "metadata": {},
   "outputs": [
    {
     "data": {
      "text/plain": [
       "'HELLO'"
      ]
     },
     "execution_count": 4,
     "metadata": {},
     "output_type": "execute_result"
    }
   ],
   "source": [
    "## Q4. Write a code to convert the string \"hello\" to uppercase.\n",
    "\n",
    "str4 = \"hello\"\n",
    "str4.upper()"
   ]
  },
  {
   "cell_type": "code",
   "execution_count": 5,
   "id": "4303eb89-8106-469d-9c1a-6e23c6f605e4",
   "metadata": {},
   "outputs": [
    {
     "name": "stdout",
     "output_type": "stream",
     "text": [
      "I like orange\n"
     ]
    }
   ],
   "source": [
    "## Q5. Write a code to replace the word \"apple\" with \"orange\" in the string \"I like apple\".\n",
    "\n",
    "str5 = \"I like apple\"\n",
    "new_text = str5.replace(\"apple\", \"orange\")\n",
    "print(new_text)"
   ]
  },
  {
   "cell_type": "code",
   "execution_count": 6,
   "id": "2d395096-91bf-44a6-abde-50b71630d189",
   "metadata": {},
   "outputs": [
    {
     "name": "stdout",
     "output_type": "stream",
     "text": [
      "[1, 2, 3, 4, 5]\n"
     ]
    }
   ],
   "source": [
    "## Q6. Write a code to create a list with numbers 1 to 5 and print it. \n",
    "\n",
    "list1 = [1, 2, 3, 4, 5]\n",
    "print(list1)"
   ]
  },
  {
   "cell_type": "code",
   "execution_count": 7,
   "id": "8944c6c0-3390-4a3c-b0dc-8a2cc2990267",
   "metadata": {},
   "outputs": [
    {
     "name": "stdout",
     "output_type": "stream",
     "text": [
      "[1, 2, 3, 4, 10]\n"
     ]
    }
   ],
   "source": [
    "## Q7. Write a code to append the number 10 to the list [1, 2, 3, 4].\n",
    "\n",
    "list2 = [1, 2, 3, 4]\n",
    "list2.append(10)\n",
    "print(list2)"
   ]
  },
  {
   "cell_type": "code",
   "execution_count": 8,
   "id": "fcf44b1f-b7fb-42bc-a26d-ff020a11cd64",
   "metadata": {},
   "outputs": [
    {
     "name": "stdout",
     "output_type": "stream",
     "text": [
      "[1, 2, 4, 5]\n"
     ]
    }
   ],
   "source": [
    "## Q8. Write a code to remove the number 3 from the list [1, 2, 3, 4, 5].\n",
    "\n",
    "list3 = [1, 2, 3, 4, 5]\n",
    "list3.remove(3)\n",
    "print(list3)"
   ]
  },
  {
   "cell_type": "code",
   "execution_count": 9,
   "id": "ab231f43-4341-48d1-8901-cdd9c1ce94fa",
   "metadata": {},
   "outputs": [
    {
     "data": {
      "text/plain": [
       "'b'"
      ]
     },
     "execution_count": 9,
     "metadata": {},
     "output_type": "execute_result"
    }
   ],
   "source": [
    "## Q9. Write a code to access the second element in the list ['a', 'b', 'c', 'd'].\n",
    "\n",
    "list4 = ['a', 'b', 'c', 'd']\n",
    "list4[1]"
   ]
  },
  {
   "cell_type": "code",
   "execution_count": 10,
   "id": "48ec733e-0b35-4ab1-85de-02b24687bf65",
   "metadata": {},
   "outputs": [
    {
     "data": {
      "text/plain": [
       "[50, 40, 30, 20, 10]"
      ]
     },
     "execution_count": 10,
     "metadata": {},
     "output_type": "execute_result"
    }
   ],
   "source": [
    "## Q10. Write a code to reverse the list [10, 20, 30, 40, 50].\n",
    "\n",
    "list5 = [10, 20, 30, 40, 50]\n",
    "list5[ : :-1]"
   ]
  },
  {
   "cell_type": "code",
   "execution_count": 11,
   "id": "e29713ed-42a2-46f7-911d-647d5217b07d",
   "metadata": {},
   "outputs": [
    {
     "name": "stdout",
     "output_type": "stream",
     "text": [
      "(100, 200, 300)\n"
     ]
    }
   ],
   "source": [
    "## Q11. Write a code to create a tuple with the elements 100, 200, 300 and print it.\n",
    "\n",
    "tup1 = (100, 200, 300)\n",
    "print(tup1)"
   ]
  },
  {
   "cell_type": "code",
   "execution_count": 12,
   "id": "18eeae89-f6f2-4b42-a677-04770e74c11d",
   "metadata": {},
   "outputs": [
    {
     "data": {
      "text/plain": [
       "'blue'"
      ]
     },
     "execution_count": 12,
     "metadata": {},
     "output_type": "execute_result"
    }
   ],
   "source": [
    "## Q12. Write a code to access the second-to-last element of the tuple ('red', 'green', 'blue', 'yellow').\n",
    "\n",
    "tup2 = ('red', 'green', 'blue', 'yellow')\n",
    "tup2[2]"
   ]
  },
  {
   "cell_type": "code",
   "execution_count": 13,
   "id": "cdab66ff-3318-477a-9053-92a21c0937e2",
   "metadata": {},
   "outputs": [
    {
     "data": {
      "text/plain": [
       "5"
      ]
     },
     "execution_count": 13,
     "metadata": {},
     "output_type": "execute_result"
    }
   ],
   "source": [
    "## Q13. Write a code to find the minimum number in the tuple (10, 20, 5, 15).\n",
    "\n",
    "tup3 = (10, 20, 5, 15)\n",
    "min(tup3)"
   ]
  },
  {
   "cell_type": "code",
   "execution_count": 14,
   "id": "4cfa46e0-a31b-45c7-a938-993b18bce3ff",
   "metadata": {},
   "outputs": [
    {
     "data": {
      "text/plain": [
       "1"
      ]
     },
     "execution_count": 14,
     "metadata": {},
     "output_type": "execute_result"
    }
   ],
   "source": [
    "## Q14. Write a code to find the index of the element \"cat\" in the tuple ('dog', 'cat', 'rabbit').\n",
    "\n",
    "animals = ('dog', 'cat', 'rabbit')\n",
    "animals.index('cat')"
   ]
  },
  {
   "cell_type": "code",
   "execution_count": 15,
   "id": "baf749a5-812b-4577-910b-4a10aa1b9294",
   "metadata": {},
   "outputs": [
    {
     "data": {
      "text/plain": [
       "False"
      ]
     },
     "execution_count": 15,
     "metadata": {},
     "output_type": "execute_result"
    }
   ],
   "source": [
    "## Q15. Write a code to create a tuple containing three different fruits and check if \"kiwi\" is in it.\n",
    "\n",
    "fruits = ('apple', 'banana', 'mango')\n",
    "'kiwi' in fruits"
   ]
  },
  {
   "cell_type": "code",
   "execution_count": 16,
   "id": "06903c86-67b1-41f9-9a08-086945d68f85",
   "metadata": {},
   "outputs": [
    {
     "name": "stdout",
     "output_type": "stream",
     "text": [
      "{'a', 'b', 'c'}\n"
     ]
    }
   ],
   "source": [
    "## Q16. Write a code to create a set with the elements 'a', 'b', 'c' and print it.\n",
    "\n",
    "set1 = {'a', 'b', 'c'}\n",
    "print(set1)"
   ]
  },
  {
   "cell_type": "code",
   "execution_count": 17,
   "id": "74320bc9-428a-4174-88b5-26a9e0fc0b63",
   "metadata": {},
   "outputs": [
    {
     "name": "stdout",
     "output_type": "stream",
     "text": [
      "set()\n"
     ]
    }
   ],
   "source": [
    "## Q17. Write a code to clear all elements from the set {1, 2, 3, 4, 5}.\n",
    "\n",
    "set2 = {1, 2, 3, 4, 5}\n",
    "set2.clear()\n",
    "print(set2)"
   ]
  },
  {
   "cell_type": "code",
   "execution_count": 18,
   "id": "a0c248b1-f071-4954-9885-32bcd75236da",
   "metadata": {},
   "outputs": [
    {
     "name": "stdout",
     "output_type": "stream",
     "text": [
      "{1, 2, 3}\n"
     ]
    }
   ],
   "source": [
    "## Q18. Write a code to remove the element 4 from the set {1, 2, 3, 4}.\n",
    "\n",
    "set3 = {1, 2, 3, 4}\n",
    "set3.remove(4)\n",
    "print(set3)"
   ]
  },
  {
   "cell_type": "code",
   "execution_count": 19,
   "id": "b8f004ef-b423-4dcf-bcf5-62093d74c44c",
   "metadata": {},
   "outputs": [
    {
     "name": "stdout",
     "output_type": "stream",
     "text": [
      "{1, 2, 3, 4, 5}\n"
     ]
    }
   ],
   "source": [
    "## Q19.  Write a code to find the union of two sets {1, 2, 3} and {3, 4, 5}.\n",
    "\n",
    "set4 = {1, 2, 3}\n",
    "set5 = {3, 4, 5}\n",
    "union_set = set4 | set5\n",
    "print(union_set)"
   ]
  },
  {
   "cell_type": "code",
   "execution_count": 20,
   "id": "acd3c862-5f00-48cc-bd91-ee9a93804897",
   "metadata": {},
   "outputs": [
    {
     "name": "stdout",
     "output_type": "stream",
     "text": [
      "{2, 3}\n"
     ]
    }
   ],
   "source": [
    "## Q20. Write a code to find the intersection of two sets {1, 2, 3} and {2, 3, 4}.\n",
    "\n",
    "set6 = {1, 2, 3}\n",
    "set7 = {2, 3, 4}\n",
    "intersection_set = set6 & set7\n",
    "print(intersection_set)"
   ]
  },
  {
   "cell_type": "code",
   "execution_count": 21,
   "id": "7e417679-4f05-44ac-a27e-cd2ad610f74e",
   "metadata": {},
   "outputs": [
    {
     "name": "stdout",
     "output_type": "stream",
     "text": [
      "{'name': 'Krishna', 'age': 20, 'city': 'Muzaffarnagar'}\n"
     ]
    }
   ],
   "source": [
    "## Q21. Write a code to create a dictionary with the keys \"name\", \"age\", and \"city\", and print it.\n",
    "\n",
    "dic1 = {\"name\": \"Krishna\", \"age\": 20, \"city\": \"Muzaffarnagar\"}\n",
    "print(dic1)"
   ]
  },
  {
   "cell_type": "code",
   "execution_count": 22,
   "id": "cdebb7c1-847e-4d90-8dd3-5b6e37bfbc40",
   "metadata": {},
   "outputs": [
    {
     "name": "stdout",
     "output_type": "stream",
     "text": [
      "{'name': 'John', 'age': 25, 'country': 'USA'}\n"
     ]
    }
   ],
   "source": [
    "## Q22.  Write a code to add a new key-value pair \"country\": \"USA\" to the dictionary {'name': 'John', 'age': 25}.\n",
    "\n",
    "dic2 = {'name': 'John', 'age': 25}\n",
    "dic2['country'] = 'USA'\n",
    "print(dic2)"
   ]
  },
  {
   "cell_type": "code",
   "execution_count": 24,
   "id": "6e5a27be-cd54-454e-a647-8406a0e3b6bf",
   "metadata": {},
   "outputs": [
    {
     "data": {
      "text/plain": [
       "'Alice'"
      ]
     },
     "execution_count": 24,
     "metadata": {},
     "output_type": "execute_result"
    }
   ],
   "source": [
    "## Q23.  Write a code to access the value associated with the key \"name\" in the dictionary {'name': 'Alice', 'age': 30}.\n",
    "\n",
    "dic3 = {'name': 'Alice', 'age': 30}\n",
    "dic3['name']"
   ]
  },
  {
   "cell_type": "code",
   "execution_count": 25,
   "id": "ff64f07e-72da-4680-b804-d1789fcfcb3a",
   "metadata": {},
   "outputs": [
    {
     "name": "stdout",
     "output_type": "stream",
     "text": [
      "{'name': 'Bob', 'city': 'New York'}\n"
     ]
    }
   ],
   "source": [
    "## Q24. Write a code to remove the key \"age\" from the dictionary {'name': 'Bob', 'age': 22, 'city': 'New York'}.\n",
    "\n",
    "dic4 = {'name': 'Bob', 'age': 22, 'city': 'New York'}\n",
    "dic4.pop('age')\n",
    "print(dic4)"
   ]
  },
  {
   "cell_type": "code",
   "execution_count": 26,
   "id": "15a218cd-bd06-4033-a872-5a0f90de53d9",
   "metadata": {},
   "outputs": [
    {
     "name": "stdout",
     "output_type": "stream",
     "text": [
      "True\n"
     ]
    }
   ],
   "source": [
    "## Q25. Write a code to check if the key \"city\" exists in the dictionary {'name': 'Alice', 'city': 'Paris'}.\n",
    "\n",
    "dic5 = {'name': 'Alice', 'city': 'Paris'}\n",
    "print('city' in dic5)"
   ]
  },
  {
   "cell_type": "code",
   "execution_count": 28,
   "id": "4931c0e0-120d-4c08-841c-08d3b559a303",
   "metadata": {},
   "outputs": [
    {
     "name": "stdout",
     "output_type": "stream",
     "text": [
      "List: [1, 2, 3]\n",
      "Tuple: (4, 5, 6)\n",
      "Dictionary: {'name': 'krishna', 'age': 20}\n"
     ]
    }
   ],
   "source": [
    "## Q26. Write a code to create a list, a tuple, and a dictionary, and print them all.\n",
    "\n",
    "\n",
    "my_list = [1, 2, 3]\n",
    "my_tuple = (4, 5, 6)\n",
    "my_dict = {\"name\": \"krishna\", \"age\": 20}\n",
    "print(\"List:\", my_list)\n",
    "print(\"Tuple:\", my_tuple)\n",
    "print(\"Dictionary:\", my_dict)"
   ]
  },
  {
   "cell_type": "code",
   "execution_count": 29,
   "id": "67906651-e2b7-4884-8552-1ad04a8e2141",
   "metadata": {},
   "outputs": [
    {
     "name": "stdout",
     "output_type": "stream",
     "text": [
      "[10, 23, 42, 65, 87]\n"
     ]
    }
   ],
   "source": [
    "## Q27.  Write a code to create a list of 5 random numbers between 1 and 100, sort it in ascending order, and print the\n",
    "##       result.(replaced)\n",
    "\n",
    "numbers = [42, 10, 87, 23, 65]\n",
    "numbers.sort()\n",
    "print(numbers)"
   ]
  },
  {
   "cell_type": "code",
   "execution_count": 30,
   "id": "6c30d7e9-e53e-464b-92c6-9ba725716839",
   "metadata": {},
   "outputs": [
    {
     "data": {
      "text/plain": [
       "'mango'"
      ]
     },
     "execution_count": 30,
     "metadata": {},
     "output_type": "execute_result"
    }
   ],
   "source": [
    "## Q28. Write a code to create a list with strings and print the element at the third index.\n",
    "\n",
    "fruits = [\"apple\", \"banana\", \"cherry\", \"mango\", \"orange\"]\n",
    "fruits[3]"
   ]
  },
  {
   "cell_type": "code",
   "execution_count": 33,
   "id": "d0cb0846-baa9-4749-8733-51d7b2e59fed",
   "metadata": {},
   "outputs": [
    {
     "name": "stdout",
     "output_type": "stream",
     "text": [
      "{'name': 'Krishna', 'age': 20, 'city': 'Mumbai', 'country': 'India'}\n"
     ]
    }
   ],
   "source": [
    "## Q29. Write a code to combine two dictionaries into one and print the result.\n",
    "\n",
    "dict1 = {'name': 'Krishna', 'age': 20}\n",
    "dict2 = {'city': 'Mumbai', 'country': 'India'}\n",
    "dict1.update(dict2)\n",
    "print(dict1)"
   ]
  },
  {
   "cell_type": "code",
   "execution_count": 34,
   "id": "01dcd799-fdb7-42e5-961f-e4275423c25c",
   "metadata": {},
   "outputs": [
    {
     "name": "stdout",
     "output_type": "stream",
     "text": [
      "{'apple', 'banana', 'cherry'}\n"
     ]
    }
   ],
   "source": [
    "## Q30.  Write a code to convert a list of strings into a set.\n",
    "\n",
    "my_list = [\"apple\", \"banana\", \"cherry\", \"apple\"]\n",
    "my_set = set(my_list)\n",
    "print(my_set)"
   ]
  }
 ],
 "metadata": {
  "kernelspec": {
   "display_name": "Python 3 (ipykernel)",
   "language": "python",
   "name": "python3"
  },
  "language_info": {
   "codemirror_mode": {
    "name": "ipython",
    "version": 3
   },
   "file_extension": ".py",
   "mimetype": "text/x-python",
   "name": "python",
   "nbconvert_exporter": "python",
   "pygments_lexer": "ipython3",
   "version": "3.12.7"
  }
 },
 "nbformat": 4,
 "nbformat_minor": 5
}
